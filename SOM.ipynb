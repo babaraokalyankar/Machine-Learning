{
  "nbformat": 4,
  "nbformat_minor": 0,
  "metadata": {
    "colab": {
      "provenance": [],
      "authorship_tag": "ABX9TyPtKK3Rg3MwysfawI220TSV",
      "include_colab_link": true
    },
    "kernelspec": {
      "name": "python3",
      "display_name": "Python 3"
    },
    "language_info": {
      "name": "python"
    }
  },
  "cells": [
    {
      "cell_type": "markdown",
      "metadata": {
        "id": "view-in-github",
        "colab_type": "text"
      },
      "source": [
        "<a href=\"https://colab.research.google.com/github/babaraokalyankar/Machine-Learning/blob/main/SOM.ipynb\" target=\"_parent\"><img src=\"https://colab.research.google.com/assets/colab-badge.svg\" alt=\"Open In Colab\"/></a>"
      ]
    },
    {
      "cell_type": "code",
      "execution_count": 32,
      "metadata": {
        "colab": {
          "base_uri": "https://localhost:8080/"
        },
        "id": "o-WsU79KOVOR",
        "outputId": "9208dc56-84ae-46bf-a8a0-348c37897ac5"
      },
      "outputs": [
        {
          "output_type": "stream",
          "name": "stdout",
          "text": [
            "Requirement already satisfied: minisom in /usr/local/lib/python3.10/dist-packages (2.3.3)\n"
          ]
        }
      ],
      "source": [
        "!pip install minisom"
      ]
    },
    {
      "cell_type": "code",
      "source": [
        "import numpy as np\n",
        "import pandas as pd\n",
        "import matplotlib.pyplot as plt\n",
        "from sklearn.preprocessing import StandardScaler\n",
        "from minisom import MiniSom\n",
        "from sklearn.model_selection import train_test_split\n",
        "from sklearn.neural_network import MLPClassifier\n",
        "from sklearn.metrics import classification_report\n",
        "from sklearn.decomposition import PCA\n"
      ],
      "metadata": {
        "id": "h5HORilaOhrF"
      },
      "execution_count": 33,
      "outputs": []
    },
    {
      "cell_type": "code",
      "source": [
        "# Assuming your dataset is in a CSV file\n",
        "data = pd.read_csv('google_review_ratings.csv')\n",
        "df = pd.DataFrame(data)\n",
        "# Remove column 11 by index (which is 12th column in 0-based index)\n",
        "# Fill NaN values in a specific column with the mean of that column\n",
        "# df = df.drop(df.columns[24], axis=1)\n",
        "\n",
        "# df['Category 12'] = df['Category 12'].fillna(df['Category 12'].mean())\n",
        "\n",
        "\n",
        "\n",
        "df.info()\n",
        "# #Extract the ratings (ignoring the first column which is user ID)\n",
        "# ratings = df.iloc[:, 1:-1].values\n",
        "\n",
        "# # Normalize the ratings (Standardization)\n",
        "# scaler = StandardScaler()\n",
        "# ratings_scaled = scaler.fit_transform(ratings)\n"
      ],
      "metadata": {
        "colab": {
          "base_uri": "https://localhost:8080/"
        },
        "id": "yfcfCMSHOjis",
        "outputId": "d83602a0-1a85-4754-ec45-b874df528ba8"
      },
      "execution_count": 53,
      "outputs": [
        {
          "output_type": "stream",
          "name": "stdout",
          "text": [
            "<class 'pandas.core.frame.DataFrame'>\n",
            "RangeIndex: 5456 entries, 0 to 5455\n",
            "Data columns (total 26 columns):\n",
            " #   Column       Non-Null Count  Dtype  \n",
            "---  ------       --------------  -----  \n",
            " 0   User         5456 non-null   object \n",
            " 1   Category 1   5456 non-null   float64\n",
            " 2   Category 2   5456 non-null   float64\n",
            " 3   Category 3   5456 non-null   float64\n",
            " 4   Category 4   5456 non-null   float64\n",
            " 5   Category 5   5456 non-null   float64\n",
            " 6   Category 6   5456 non-null   float64\n",
            " 7   Category 7   5456 non-null   float64\n",
            " 8   Category 8   5456 non-null   float64\n",
            " 9   Category 9   5456 non-null   float64\n",
            " 10  Category 10  5456 non-null   float64\n",
            " 11  Category 11  5456 non-null   object \n",
            " 12  Category 12  5455 non-null   float64\n",
            " 13  Category 13  5456 non-null   float64\n",
            " 14  Category 14  5456 non-null   float64\n",
            " 15  Category 15  5456 non-null   float64\n",
            " 16  Category 16  5456 non-null   float64\n",
            " 17  Category 17  5456 non-null   float64\n",
            " 18  Category 18  5456 non-null   float64\n",
            " 19  Category 19  5456 non-null   float64\n",
            " 20  Category 20  5456 non-null   float64\n",
            " 21  Category 21  5456 non-null   float64\n",
            " 22  Category 22  5456 non-null   float64\n",
            " 23  Category 23  5456 non-null   float64\n",
            " 24  Category 24  5455 non-null   float64\n",
            " 25  Unnamed: 25  2 non-null      float64\n",
            "dtypes: float64(24), object(2)\n",
            "memory usage: 1.1+ MB\n"
          ]
        }
      ]
    },
    {
      "cell_type": "code",
      "source": [
        "# Fill NaN values in all numeric columns with their respective means\n",
        "df = df.apply(lambda x: x.fillna(x.mean()) if x.dtype == 'float64' or x.dtype == 'int64' else x, axis=0)\n"
      ],
      "metadata": {
        "id": "rLBZjCQnM3FJ"
      },
      "execution_count": 54,
      "outputs": []
    },
    {
      "cell_type": "code",
      "source": [
        "# Check for null (NaN) values in all columns\n",
        "null_values = df.isna().sum()\n",
        "\n",
        "# Print the number of missing values in each column\n",
        "print(null_values)\n"
      ],
      "metadata": {
        "colab": {
          "base_uri": "https://localhost:8080/"
        },
        "id": "TFv5tEIfK67B",
        "outputId": "5c78c00e-e77a-4b6d-d2b0-8d4849510329"
      },
      "execution_count": 55,
      "outputs": [
        {
          "output_type": "stream",
          "name": "stdout",
          "text": [
            "User           0\n",
            "Category 1     0\n",
            "Category 2     0\n",
            "Category 3     0\n",
            "Category 4     0\n",
            "Category 5     0\n",
            "Category 6     0\n",
            "Category 7     0\n",
            "Category 8     0\n",
            "Category 9     0\n",
            "Category 10    0\n",
            "Category 11    0\n",
            "Category 12    0\n",
            "Category 13    0\n",
            "Category 14    0\n",
            "Category 15    0\n",
            "Category 16    0\n",
            "Category 17    0\n",
            "Category 18    0\n",
            "Category 19    0\n",
            "Category 20    0\n",
            "Category 21    0\n",
            "Category 22    0\n",
            "Category 23    0\n",
            "Category 24    0\n",
            "Unnamed: 25    0\n",
            "dtype: int64\n"
          ]
        }
      ]
    },
    {
      "cell_type": "code",
      "source": [
        "df = df.drop(df.columns[25], axis=1)\n",
        "df = df.drop(df.columns[11], axis=1)"
      ],
      "metadata": {
        "id": "X0kLK_aeM_gn"
      },
      "execution_count": 56,
      "outputs": []
    },
    {
      "cell_type": "code",
      "source": [
        "df.info()"
      ],
      "metadata": {
        "colab": {
          "base_uri": "https://localhost:8080/"
        },
        "id": "ywjoFJJ5NOX7",
        "outputId": "1626cc05-514c-4a4d-aba4-8d20b7aca992"
      },
      "execution_count": 57,
      "outputs": [
        {
          "output_type": "stream",
          "name": "stdout",
          "text": [
            "<class 'pandas.core.frame.DataFrame'>\n",
            "RangeIndex: 5456 entries, 0 to 5455\n",
            "Data columns (total 24 columns):\n",
            " #   Column       Non-Null Count  Dtype  \n",
            "---  ------       --------------  -----  \n",
            " 0   User         5456 non-null   object \n",
            " 1   Category 1   5456 non-null   float64\n",
            " 2   Category 2   5456 non-null   float64\n",
            " 3   Category 3   5456 non-null   float64\n",
            " 4   Category 4   5456 non-null   float64\n",
            " 5   Category 5   5456 non-null   float64\n",
            " 6   Category 6   5456 non-null   float64\n",
            " 7   Category 7   5456 non-null   float64\n",
            " 8   Category 8   5456 non-null   float64\n",
            " 9   Category 9   5456 non-null   float64\n",
            " 10  Category 10  5456 non-null   float64\n",
            " 11  Category 12  5456 non-null   float64\n",
            " 12  Category 13  5456 non-null   float64\n",
            " 13  Category 14  5456 non-null   float64\n",
            " 14  Category 15  5456 non-null   float64\n",
            " 15  Category 16  5456 non-null   float64\n",
            " 16  Category 17  5456 non-null   float64\n",
            " 17  Category 18  5456 non-null   float64\n",
            " 18  Category 19  5456 non-null   float64\n",
            " 19  Category 20  5456 non-null   float64\n",
            " 20  Category 21  5456 non-null   float64\n",
            " 21  Category 22  5456 non-null   float64\n",
            " 22  Category 23  5456 non-null   float64\n",
            " 23  Category 24  5456 non-null   float64\n",
            "dtypes: float64(23), object(1)\n",
            "memory usage: 1023.1+ KB\n"
          ]
        }
      ]
    },
    {
      "cell_type": "code",
      "source": [
        "som = MiniSom(x=10, y=10, input_len=ratings_scaled.shape[1], sigma=1.0, learning_rate=0.5)\n",
        "som.train(ratings_scaled, 5000, verbose=True)"
      ],
      "metadata": {
        "colab": {
          "base_uri": "https://localhost:8080/"
        },
        "id": "cBiBetD8IJ-3",
        "outputId": "938a97bd-338d-4d6f-a05e-b31da86c23ca"
      },
      "execution_count": 58,
      "outputs": [
        {
          "output_type": "stream",
          "name": "stdout",
          "text": [
            " [ 5000 / 5000 ] 100% - 0:00:00 left \n",
            " quantization error: nan\n"
          ]
        }
      ]
    },
    {
      "cell_type": "code",
      "source": [
        "# Get the winning node for each data point\n",
        "win_map = np.array([som.winner(x) for x in ratings_scaled])\n",
        "\n",
        "# Create a column for clusters (each unique (x, y) position is a cluster)\n",
        "clusters = [f\"Cluster_{win[0]}_{win[1]}\" for win in win_map]\n",
        "\n",
        "# Add clusters as a new column to the dataframe\n",
        "data['Cluster'] = clusters\n"
      ],
      "metadata": {
        "colab": {
          "base_uri": "https://localhost:8080/"
        },
        "id": "C-D_9NQ0IMUl",
        "outputId": "7a74a67c-af8f-4d60-a4e8-eb4babb88c70"
      },
      "execution_count": 64,
      "outputs": [
        {
          "output_type": "stream",
          "name": "stdout",
          "text": [
            "<class 'pandas.core.frame.DataFrame'>\n",
            "RangeIndex: 5456 entries, 0 to 5455\n",
            "Data columns (total 24 columns):\n",
            " #   Column       Non-Null Count  Dtype  \n",
            "---  ------       --------------  -----  \n",
            " 0   User         5456 non-null   object \n",
            " 1   Category 1   5456 non-null   float64\n",
            " 2   Category 2   5456 non-null   float64\n",
            " 3   Category 3   5456 non-null   float64\n",
            " 4   Category 4   5456 non-null   float64\n",
            " 5   Category 5   5456 non-null   float64\n",
            " 6   Category 6   5456 non-null   float64\n",
            " 7   Category 7   5456 non-null   float64\n",
            " 8   Category 8   5456 non-null   float64\n",
            " 9   Category 9   5456 non-null   float64\n",
            " 10  Category 10  5456 non-null   float64\n",
            " 11  Category 12  5456 non-null   float64\n",
            " 12  Category 13  5456 non-null   float64\n",
            " 13  Category 14  5456 non-null   float64\n",
            " 14  Category 15  5456 non-null   float64\n",
            " 15  Category 16  5456 non-null   float64\n",
            " 16  Category 17  5456 non-null   float64\n",
            " 17  Category 18  5456 non-null   float64\n",
            " 18  Category 19  5456 non-null   float64\n",
            " 19  Category 20  5456 non-null   float64\n",
            " 20  Category 21  5456 non-null   float64\n",
            " 21  Category 22  5456 non-null   float64\n",
            " 22  Category 23  5456 non-null   float64\n",
            " 23  Category 24  5456 non-null   float64\n",
            "dtypes: float64(23), object(1)\n",
            "memory usage: 1023.1+ KB\n"
          ]
        }
      ]
    },
    {
      "cell_type": "code",
      "source": [
        "plt.figure(figsize=(8, 8))\n",
        "\n",
        "# Title for the plot\n",
        "plt.title('SOM Weights Heatmap')\n",
        "\n",
        "# Plot the weights (SOM's 2D grid)\n",
        "weights = som.get_weights()  # Get the weight matrix\n",
        "plt.imshow(weights[:, :, 0], cmap='jet')  # Show the first component as heatmap (you can choose other components too)\n",
        "plt.colorbar()  # Show color bar to understand the scale\n",
        "plt.show()"
      ],
      "metadata": {
        "colab": {
          "base_uri": "https://localhost:8080/",
          "height": 653
        },
        "id": "eqvKqJ4VJUf6",
        "outputId": "0bafd914-da67-40b0-b900-89b9258f829e"
      },
      "execution_count": 60,
      "outputs": [
        {
          "output_type": "display_data",
          "data": {
            "text/plain": [
              "<Figure size 800x800 with 2 Axes>"
            ],
            "image/png": "[encoded data removed]"
          },
          "metadata": {}
        }
      ]
    }
  ]
}